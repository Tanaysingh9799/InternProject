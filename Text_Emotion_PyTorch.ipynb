{
  "nbformat": 4,
  "nbformat_minor": 0,
  "metadata": {
    "colab": {
      "name": "Text_Emotion_PyTorch.ipynb",
      "provenance": [],
      "collapsed_sections": [],
      "toc_visible": true,
      "machine_shape": "hm"
    },
    "kernelspec": {
      "name": "python3",
      "display_name": "Python 3"
    }
  },
  "cells": [
    {
      "cell_type": "code",
      "metadata": {
        "id": "GQn1wO2qr01C"
      },
      "source": [
        "import numpy as np\n",
        "import pandas as pd\n",
        "import matplotlib.pyplot as plt\n",
        "import csv\n",
        "import torch\n",
        "import torch.nn as nn\n",
        "import torch.nn.functional as F\n",
        "import torch.optim as optim\n",
        "from sklearn.datasets import make_blobs\n",
        "from sklearn.model_selection import train_test_split"
      ],
      "execution_count": 2,
      "outputs": []
    },
    {
      "cell_type": "code",
      "metadata": {
        "id": "JwKFAE-2IBae"
      },
      "source": [
        "data = pd.read_csv('textdata.csv') "
      ],
      "execution_count": 3,
      "outputs": []
    },
    {
      "cell_type": "code",
      "metadata": {
        "colab": {
          "base_uri": "https://localhost:8080/",
          "height": 402
        },
        "id": "2MlGt72rc71o",
        "outputId": "df29fa59-5a07-439c-e317-932b1382610d"
      },
      "source": [
        "data"
      ],
      "execution_count": 4,
      "outputs": [
        {
          "output_type": "execute_result",
          "data": {
            "text/html": [
              "<div>\n",
              "<style scoped>\n",
              "    .dataframe tbody tr th:only-of-type {\n",
              "        vertical-align: middle;\n",
              "    }\n",
              "\n",
              "    .dataframe tbody tr th {\n",
              "        vertical-align: top;\n",
              "    }\n",
              "\n",
              "    .dataframe thead th {\n",
              "        text-align: right;\n",
              "    }\n",
              "</style>\n",
              "<table border=\"1\" class=\"dataframe\">\n",
              "  <thead>\n",
              "    <tr style=\"text-align: right;\">\n",
              "      <th></th>\n",
              "      <th>Column1</th>\n",
              "      <th>Column2</th>\n",
              "    </tr>\n",
              "  </thead>\n",
              "  <tbody>\n",
              "    <tr>\n",
              "      <th>0</th>\n",
              "      <td>joy</td>\n",
              "      <td>On days when I feel close to my partner and ot...</td>\n",
              "    </tr>\n",
              "    <tr>\n",
              "      <th>1</th>\n",
              "      <td>fear</td>\n",
              "      <td>Every time I imagine that someone I love or I ...</td>\n",
              "    </tr>\n",
              "    <tr>\n",
              "      <th>2</th>\n",
              "      <td>anger</td>\n",
              "      <td>When I had been obviously unjustly treated and...</td>\n",
              "    </tr>\n",
              "    <tr>\n",
              "      <th>3</th>\n",
              "      <td>sadness</td>\n",
              "      <td>When I think about the short time that we live...</td>\n",
              "    </tr>\n",
              "    <tr>\n",
              "      <th>4</th>\n",
              "      <td>disgust</td>\n",
              "      <td>At a gathering I found myself involuntarily si...</td>\n",
              "    </tr>\n",
              "    <tr>\n",
              "      <th>...</th>\n",
              "      <td>...</td>\n",
              "      <td>...</td>\n",
              "    </tr>\n",
              "    <tr>\n",
              "      <th>7511</th>\n",
              "      <td>shame</td>\n",
              "      <td>Two years back someone invited me to be the tu...</td>\n",
              "    </tr>\n",
              "    <tr>\n",
              "      <th>7512</th>\n",
              "      <td>shame</td>\n",
              "      <td>I had taken the responsibility to do something...</td>\n",
              "    </tr>\n",
              "    <tr>\n",
              "      <th>7513</th>\n",
              "      <td>fear</td>\n",
              "      <td>I was at home and I heard a loud sound of spit...</td>\n",
              "    </tr>\n",
              "    <tr>\n",
              "      <th>7514</th>\n",
              "      <td>guilt</td>\n",
              "      <td>I did not do the homework that the teacher had...</td>\n",
              "    </tr>\n",
              "    <tr>\n",
              "      <th>7515</th>\n",
              "      <td>fear</td>\n",
              "      <td>I had shouted at my younger brother and he was...</td>\n",
              "    </tr>\n",
              "  </tbody>\n",
              "</table>\n",
              "<p>7516 rows × 2 columns</p>\n",
              "</div>"
            ],
            "text/plain": [
              "      Column1                                            Column2\n",
              "0         joy  On days when I feel close to my partner and ot...\n",
              "1        fear  Every time I imagine that someone I love or I ...\n",
              "2       anger  When I had been obviously unjustly treated and...\n",
              "3     sadness  When I think about the short time that we live...\n",
              "4     disgust  At a gathering I found myself involuntarily si...\n",
              "...       ...                                                ...\n",
              "7511    shame  Two years back someone invited me to be the tu...\n",
              "7512    shame  I had taken the responsibility to do something...\n",
              "7513     fear  I was at home and I heard a loud sound of spit...\n",
              "7514    guilt  I did not do the homework that the teacher had...\n",
              "7515     fear  I had shouted at my younger brother and he was...\n",
              "\n",
              "[7516 rows x 2 columns]"
            ]
          },
          "metadata": {
            "tags": []
          },
          "execution_count": 4
        }
      ]
    },
    {
      "cell_type": "code",
      "metadata": {
        "colab": {
          "base_uri": "https://localhost:8080/"
        },
        "id": "SpJWa8yDc9zN",
        "outputId": "48096654-6d55-4f81-e2f7-4b318678bfaa"
      },
      "source": [
        "data.shape"
      ],
      "execution_count": 5,
      "outputs": [
        {
          "output_type": "execute_result",
          "data": {
            "text/plain": [
              "(7516, 2)"
            ]
          },
          "metadata": {
            "tags": []
          },
          "execution_count": 5
        }
      ]
    },
    {
      "cell_type": "code",
      "metadata": {
        "colab": {
          "base_uri": "https://localhost:8080/"
        },
        "id": "NxgJSEhIdB_d",
        "outputId": "52dcb932-54fb-4e8b-c3ad-3bdc2a42aa2b"
      },
      "source": [
        "data.columns"
      ],
      "execution_count": 6,
      "outputs": [
        {
          "output_type": "execute_result",
          "data": {
            "text/plain": [
              "Index(['Column1', 'Column2'], dtype='object')"
            ]
          },
          "metadata": {
            "tags": []
          },
          "execution_count": 6
        }
      ]
    },
    {
      "cell_type": "code",
      "metadata": {
        "colab": {
          "base_uri": "https://localhost:8080/"
        },
        "id": "77YiXEhMdGAC",
        "outputId": "6e8fd406-9695-46ab-9d6c-d61e96ffcd4d"
      },
      "source": [
        "data.info()"
      ],
      "execution_count": 7,
      "outputs": [
        {
          "output_type": "stream",
          "text": [
            "<class 'pandas.core.frame.DataFrame'>\n",
            "RangeIndex: 7516 entries, 0 to 7515\n",
            "Data columns (total 2 columns):\n",
            " #   Column   Non-Null Count  Dtype \n",
            "---  ------   --------------  ----- \n",
            " 0   Column1  7516 non-null   object\n",
            " 1   Column2  7516 non-null   object\n",
            "dtypes: object(2)\n",
            "memory usage: 117.6+ KB\n"
          ],
          "name": "stdout"
        }
      ]
    },
    {
      "cell_type": "code",
      "metadata": {
        "colab": {
          "base_uri": "https://localhost:8080/",
          "height": 296
        },
        "id": "D1IT-uGqdLU4",
        "outputId": "08e8cc08-245b-465a-e803-86e22e94f8ba"
      },
      "source": [
        "import seaborn as sns\r\n",
        "sns.countplot(x = 'Column1', data = data)"
      ],
      "execution_count": 8,
      "outputs": [
        {
          "output_type": "execute_result",
          "data": {
            "text/plain": [
              "<matplotlib.axes._subplots.AxesSubplot at 0x7f1938517a58>"
            ]
          },
          "metadata": {
            "tags": []
          },
          "execution_count": 8
        },
        {
          "output_type": "display_data",
          "data": {
            "image/png": "[encoded data removed]",
            "text/plain": [
              "<Figure size 432x288 with 1 Axes>"
            ]
          },
          "metadata": {
            "tags": [],
            "needs_background": "light"
          }
        }
      ]
    },
    {
      "cell_type": "code",
      "metadata": {
        "colab": {
          "base_uri": "https://localhost:8080/"
        },
        "id": "bJ2jAo5YJtV7",
        "outputId": "a816ca04-de90-4cde-af52-34fe591fe5f8"
      },
      "source": [
        "data.Column1.unique()"
      ],
      "execution_count": 9,
      "outputs": [
        {
          "output_type": "execute_result",
          "data": {
            "text/plain": [
              "array(['joy', 'fear', 'anger', 'sadness', 'disgust', 'shame', 'guilt'],\n",
              "      dtype=object)"
            ]
          },
          "metadata": {
            "tags": []
          },
          "execution_count": 9
        }
      ]
    },
    {
      "cell_type": "code",
      "metadata": {
        "id": "efV6Zi6KIJOO"
      },
      "source": [
        "Column1 = {'joy': 0,'fear': 1,'anger':2,'sadness':3,'disgust':4,'shame':5,'guilt':6,}"
      ],
      "execution_count": 10,
      "outputs": []
    },
    {
      "cell_type": "code",
      "metadata": {
        "id": "UlAYJ53NKKgD"
      },
      "source": [
        "data.Column1 = [Column1[item] for item in data.Column1] "
      ],
      "execution_count": 11,
      "outputs": []
    },
    {
      "cell_type": "code",
      "metadata": {
        "id": "PRuqLFk25S0u",
        "colab": {
          "base_uri": "https://localhost:8080/",
          "height": 402
        },
        "outputId": "7ca1e5df-378e-40b5-cf0a-a3e5aab7a14f"
      },
      "source": [
        "data"
      ],
      "execution_count": 12,
      "outputs": [
        {
          "output_type": "execute_result",
          "data": {
            "text/html": [
              "<div>\n",
              "<style scoped>\n",
              "    .dataframe tbody tr th:only-of-type {\n",
              "        vertical-align: middle;\n",
              "    }\n",
              "\n",
              "    .dataframe tbody tr th {\n",
              "        vertical-align: top;\n",
              "    }\n",
              "\n",
              "    .dataframe thead th {\n",
              "        text-align: right;\n",
              "    }\n",
              "</style>\n",
              "<table border=\"1\" class=\"dataframe\">\n",
              "  <thead>\n",
              "    <tr style=\"text-align: right;\">\n",
              "      <th></th>\n",
              "      <th>Column1</th>\n",
              "      <th>Column2</th>\n",
              "    </tr>\n",
              "  </thead>\n",
              "  <tbody>\n",
              "    <tr>\n",
              "      <th>0</th>\n",
              "      <td>0</td>\n",
              "      <td>On days when I feel close to my partner and ot...</td>\n",
              "    </tr>\n",
              "    <tr>\n",
              "      <th>1</th>\n",
              "      <td>1</td>\n",
              "      <td>Every time I imagine that someone I love or I ...</td>\n",
              "    </tr>\n",
              "    <tr>\n",
              "      <th>2</th>\n",
              "      <td>2</td>\n",
              "      <td>When I had been obviously unjustly treated and...</td>\n",
              "    </tr>\n",
              "    <tr>\n",
              "      <th>3</th>\n",
              "      <td>3</td>\n",
              "      <td>When I think about the short time that we live...</td>\n",
              "    </tr>\n",
              "    <tr>\n",
              "      <th>4</th>\n",
              "      <td>4</td>\n",
              "      <td>At a gathering I found myself involuntarily si...</td>\n",
              "    </tr>\n",
              "    <tr>\n",
              "      <th>...</th>\n",
              "      <td>...</td>\n",
              "      <td>...</td>\n",
              "    </tr>\n",
              "    <tr>\n",
              "      <th>7511</th>\n",
              "      <td>5</td>\n",
              "      <td>Two years back someone invited me to be the tu...</td>\n",
              "    </tr>\n",
              "    <tr>\n",
              "      <th>7512</th>\n",
              "      <td>5</td>\n",
              "      <td>I had taken the responsibility to do something...</td>\n",
              "    </tr>\n",
              "    <tr>\n",
              "      <th>7513</th>\n",
              "      <td>1</td>\n",
              "      <td>I was at home and I heard a loud sound of spit...</td>\n",
              "    </tr>\n",
              "    <tr>\n",
              "      <th>7514</th>\n",
              "      <td>6</td>\n",
              "      <td>I did not do the homework that the teacher had...</td>\n",
              "    </tr>\n",
              "    <tr>\n",
              "      <th>7515</th>\n",
              "      <td>1</td>\n",
              "      <td>I had shouted at my younger brother and he was...</td>\n",
              "    </tr>\n",
              "  </tbody>\n",
              "</table>\n",
              "<p>7516 rows × 2 columns</p>\n",
              "</div>"
            ],
            "text/plain": [
              "      Column1                                            Column2\n",
              "0           0  On days when I feel close to my partner and ot...\n",
              "1           1  Every time I imagine that someone I love or I ...\n",
              "2           2  When I had been obviously unjustly treated and...\n",
              "3           3  When I think about the short time that we live...\n",
              "4           4  At a gathering I found myself involuntarily si...\n",
              "...       ...                                                ...\n",
              "7511        5  Two years back someone invited me to be the tu...\n",
              "7512        5  I had taken the responsibility to do something...\n",
              "7513        1  I was at home and I heard a loud sound of spit...\n",
              "7514        6  I did not do the homework that the teacher had...\n",
              "7515        1  I had shouted at my younger brother and he was...\n",
              "\n",
              "[7516 rows x 2 columns]"
            ]
          },
          "metadata": {
            "tags": []
          },
          "execution_count": 12
        }
      ]
    },
    {
      "cell_type": "code",
      "metadata": {
        "id": "tnIzOLmhFqEt"
      },
      "source": [
        "data['Column2'] = data['Column2'].apply(lambda x: \" \".join(x.lower() for x in x.split()))"
      ],
      "execution_count": 13,
      "outputs": []
    },
    {
      "cell_type": "code",
      "metadata": {
        "id": "8g3mu74YFyBS",
        "colab": {
          "base_uri": "https://localhost:8080/",
          "height": 402
        },
        "outputId": "6031846a-a942-4490-c829-b3821ea8f682"
      },
      "source": [
        "data"
      ],
      "execution_count": 14,
      "outputs": [
        {
          "output_type": "execute_result",
          "data": {
            "text/html": [
              "<div>\n",
              "<style scoped>\n",
              "    .dataframe tbody tr th:only-of-type {\n",
              "        vertical-align: middle;\n",
              "    }\n",
              "\n",
              "    .dataframe tbody tr th {\n",
              "        vertical-align: top;\n",
              "    }\n",
              "\n",
              "    .dataframe thead th {\n",
              "        text-align: right;\n",
              "    }\n",
              "</style>\n",
              "<table border=\"1\" class=\"dataframe\">\n",
              "  <thead>\n",
              "    <tr style=\"text-align: right;\">\n",
              "      <th></th>\n",
              "      <th>Column1</th>\n",
              "      <th>Column2</th>\n",
              "    </tr>\n",
              "  </thead>\n",
              "  <tbody>\n",
              "    <tr>\n",
              "      <th>0</th>\n",
              "      <td>0</td>\n",
              "      <td>on days when i feel close to my partner and ot...</td>\n",
              "    </tr>\n",
              "    <tr>\n",
              "      <th>1</th>\n",
              "      <td>1</td>\n",
              "      <td>every time i imagine that someone i love or i ...</td>\n",
              "    </tr>\n",
              "    <tr>\n",
              "      <th>2</th>\n",
              "      <td>2</td>\n",
              "      <td>when i had been obviously unjustly treated and...</td>\n",
              "    </tr>\n",
              "    <tr>\n",
              "      <th>3</th>\n",
              "      <td>3</td>\n",
              "      <td>when i think about the short time that we live...</td>\n",
              "    </tr>\n",
              "    <tr>\n",
              "      <th>4</th>\n",
              "      <td>4</td>\n",
              "      <td>at a gathering i found myself involuntarily si...</td>\n",
              "    </tr>\n",
              "    <tr>\n",
              "      <th>...</th>\n",
              "      <td>...</td>\n",
              "      <td>...</td>\n",
              "    </tr>\n",
              "    <tr>\n",
              "      <th>7511</th>\n",
              "      <td>5</td>\n",
              "      <td>two years back someone invited me to be the tu...</td>\n",
              "    </tr>\n",
              "    <tr>\n",
              "      <th>7512</th>\n",
              "      <td>5</td>\n",
              "      <td>i had taken the responsibility to do something...</td>\n",
              "    </tr>\n",
              "    <tr>\n",
              "      <th>7513</th>\n",
              "      <td>1</td>\n",
              "      <td>i was at home and i heard a loud sound of spit...</td>\n",
              "    </tr>\n",
              "    <tr>\n",
              "      <th>7514</th>\n",
              "      <td>6</td>\n",
              "      <td>i did not do the homework that the teacher had...</td>\n",
              "    </tr>\n",
              "    <tr>\n",
              "      <th>7515</th>\n",
              "      <td>1</td>\n",
              "      <td>i had shouted at my younger brother and he was...</td>\n",
              "    </tr>\n",
              "  </tbody>\n",
              "</table>\n",
              "<p>7516 rows × 2 columns</p>\n",
              "</div>"
            ],
            "text/plain": [
              "      Column1                                            Column2\n",
              "0           0  on days when i feel close to my partner and ot...\n",
              "1           1  every time i imagine that someone i love or i ...\n",
              "2           2  when i had been obviously unjustly treated and...\n",
              "3           3  when i think about the short time that we live...\n",
              "4           4  at a gathering i found myself involuntarily si...\n",
              "...       ...                                                ...\n",
              "7511        5  two years back someone invited me to be the tu...\n",
              "7512        5  i had taken the responsibility to do something...\n",
              "7513        1  i was at home and i heard a loud sound of spit...\n",
              "7514        6  i did not do the homework that the teacher had...\n",
              "7515        1  i had shouted at my younger brother and he was...\n",
              "\n",
              "[7516 rows x 2 columns]"
            ]
          },
          "metadata": {
            "tags": []
          },
          "execution_count": 14
        }
      ]
    },
    {
      "cell_type": "code",
      "metadata": {
        "id": "N2RoH6wfF0M3"
      },
      "source": [
        "data['Column2'] = data['Column2'].str.replace('[^\\w\\s]',' ')"
      ],
      "execution_count": 15,
      "outputs": []
    },
    {
      "cell_type": "code",
      "metadata": {
        "id": "WrGaEVhAG9X1",
        "colab": {
          "base_uri": "https://localhost:8080/",
          "height": 402
        },
        "outputId": "bd0ec848-955f-4012-cf87-66ab2da90c38"
      },
      "source": [
        "data"
      ],
      "execution_count": 16,
      "outputs": [
        {
          "output_type": "execute_result",
          "data": {
            "text/html": [
              "<div>\n",
              "<style scoped>\n",
              "    .dataframe tbody tr th:only-of-type {\n",
              "        vertical-align: middle;\n",
              "    }\n",
              "\n",
              "    .dataframe tbody tr th {\n",
              "        vertical-align: top;\n",
              "    }\n",
              "\n",
              "    .dataframe thead th {\n",
              "        text-align: right;\n",
              "    }\n",
              "</style>\n",
              "<table border=\"1\" class=\"dataframe\">\n",
              "  <thead>\n",
              "    <tr style=\"text-align: right;\">\n",
              "      <th></th>\n",
              "      <th>Column1</th>\n",
              "      <th>Column2</th>\n",
              "    </tr>\n",
              "  </thead>\n",
              "  <tbody>\n",
              "    <tr>\n",
              "      <th>0</th>\n",
              "      <td>0</td>\n",
              "      <td>on days when i feel close to my partner and ot...</td>\n",
              "    </tr>\n",
              "    <tr>\n",
              "      <th>1</th>\n",
              "      <td>1</td>\n",
              "      <td>every time i imagine that someone i love or i ...</td>\n",
              "    </tr>\n",
              "    <tr>\n",
              "      <th>2</th>\n",
              "      <td>2</td>\n",
              "      <td>when i had been obviously unjustly treated and...</td>\n",
              "    </tr>\n",
              "    <tr>\n",
              "      <th>3</th>\n",
              "      <td>3</td>\n",
              "      <td>when i think about the short time that we live...</td>\n",
              "    </tr>\n",
              "    <tr>\n",
              "      <th>4</th>\n",
              "      <td>4</td>\n",
              "      <td>at a gathering i found myself involuntarily si...</td>\n",
              "    </tr>\n",
              "    <tr>\n",
              "      <th>...</th>\n",
              "      <td>...</td>\n",
              "      <td>...</td>\n",
              "    </tr>\n",
              "    <tr>\n",
              "      <th>7511</th>\n",
              "      <td>5</td>\n",
              "      <td>two years back someone invited me to be the tu...</td>\n",
              "    </tr>\n",
              "    <tr>\n",
              "      <th>7512</th>\n",
              "      <td>5</td>\n",
              "      <td>i had taken the responsibility to do something...</td>\n",
              "    </tr>\n",
              "    <tr>\n",
              "      <th>7513</th>\n",
              "      <td>1</td>\n",
              "      <td>i was at home and i heard a loud sound of spit...</td>\n",
              "    </tr>\n",
              "    <tr>\n",
              "      <th>7514</th>\n",
              "      <td>6</td>\n",
              "      <td>i did not do the homework that the teacher had...</td>\n",
              "    </tr>\n",
              "    <tr>\n",
              "      <th>7515</th>\n",
              "      <td>1</td>\n",
              "      <td>i had shouted at my younger brother and he was...</td>\n",
              "    </tr>\n",
              "  </tbody>\n",
              "</table>\n",
              "<p>7516 rows × 2 columns</p>\n",
              "</div>"
            ],
            "text/plain": [
              "      Column1                                            Column2\n",
              "0           0  on days when i feel close to my partner and ot...\n",
              "1           1  every time i imagine that someone i love or i ...\n",
              "2           2  when i had been obviously unjustly treated and...\n",
              "3           3  when i think about the short time that we live...\n",
              "4           4  at a gathering i found myself involuntarily si...\n",
              "...       ...                                                ...\n",
              "7511        5  two years back someone invited me to be the tu...\n",
              "7512        5  i had taken the responsibility to do something...\n",
              "7513        1  i was at home and i heard a loud sound of spit...\n",
              "7514        6  i did not do the homework that the teacher had...\n",
              "7515        1  i had shouted at my younger brother and he was...\n",
              "\n",
              "[7516 rows x 2 columns]"
            ]
          },
          "metadata": {
            "tags": []
          },
          "execution_count": 16
        }
      ]
    },
    {
      "cell_type": "code",
      "metadata": {
        "id": "YGPx3tmvHKS4"
      },
      "source": [
        "import nltk"
      ],
      "execution_count": 17,
      "outputs": []
    },
    {
      "cell_type": "code",
      "metadata": {
        "id": "O8wfTxfJHNR9",
        "colab": {
          "base_uri": "https://localhost:8080/"
        },
        "outputId": "d61a4546-38ef-4e32-e62e-bea5688602f3"
      },
      "source": [
        "nltk.download('stopwords')"
      ],
      "execution_count": 18,
      "outputs": [
        {
          "output_type": "stream",
          "text": [
            "[nltk_data] Downloading package stopwords to /root/nltk_data...\n",
            "[nltk_data]   Unzipping corpora/stopwords.zip.\n"
          ],
          "name": "stdout"
        },
        {
          "output_type": "execute_result",
          "data": {
            "text/plain": [
              "True"
            ]
          },
          "metadata": {
            "tags": []
          },
          "execution_count": 18
        }
      ]
    },
    {
      "cell_type": "code",
      "metadata": {
        "id": "Wl3AsFFrHAxs"
      },
      "source": [
        "from nltk.corpus import stopwords\r\n",
        "stop = stopwords.words('english')\r\n",
        "data['Column2'] = data['Column2'].apply(lambda x: \" \".join(x for x in x.split() if x not in stop))"
      ],
      "execution_count": 19,
      "outputs": []
    },
    {
      "cell_type": "code",
      "metadata": {
        "id": "1yVKiVGJHP7o",
        "colab": {
          "base_uri": "https://localhost:8080/",
          "height": 402
        },
        "outputId": "6e921ee6-5448-432a-bd0b-08c89b174c2e"
      },
      "source": [
        "data"
      ],
      "execution_count": 20,
      "outputs": [
        {
          "output_type": "execute_result",
          "data": {
            "text/html": [
              "<div>\n",
              "<style scoped>\n",
              "    .dataframe tbody tr th:only-of-type {\n",
              "        vertical-align: middle;\n",
              "    }\n",
              "\n",
              "    .dataframe tbody tr th {\n",
              "        vertical-align: top;\n",
              "    }\n",
              "\n",
              "    .dataframe thead th {\n",
              "        text-align: right;\n",
              "    }\n",
              "</style>\n",
              "<table border=\"1\" class=\"dataframe\">\n",
              "  <thead>\n",
              "    <tr style=\"text-align: right;\">\n",
              "      <th></th>\n",
              "      <th>Column1</th>\n",
              "      <th>Column2</th>\n",
              "    </tr>\n",
              "  </thead>\n",
              "  <tbody>\n",
              "    <tr>\n",
              "      <th>0</th>\n",
              "      <td>0</td>\n",
              "      <td>days feel close partner friends feel peace als...</td>\n",
              "    </tr>\n",
              "    <tr>\n",
              "      <th>1</th>\n",
              "      <td>1</td>\n",
              "      <td>every time imagine someone love could contact ...</td>\n",
              "    </tr>\n",
              "    <tr>\n",
              "      <th>2</th>\n",
              "      <td>2</td>\n",
              "      <td>obviously unjustly treated possibility elucida...</td>\n",
              "    </tr>\n",
              "    <tr>\n",
              "      <th>3</th>\n",
              "      <td>3</td>\n",
              "      <td>think short time live relate periods life thin...</td>\n",
              "    </tr>\n",
              "    <tr>\n",
              "      <th>4</th>\n",
              "      <td>4</td>\n",
              "      <td>gathering found involuntarily sitting next two...</td>\n",
              "    </tr>\n",
              "    <tr>\n",
              "      <th>...</th>\n",
              "      <td>...</td>\n",
              "      <td>...</td>\n",
              "    </tr>\n",
              "    <tr>\n",
              "      <th>7511</th>\n",
              "      <td>5</td>\n",
              "      <td>two years back someone invited tutor grand dau...</td>\n",
              "    </tr>\n",
              "    <tr>\n",
              "      <th>7512</th>\n",
              "      <td>5</td>\n",
              "      <td>taken responsibility something prepared howeve...</td>\n",
              "    </tr>\n",
              "    <tr>\n",
              "      <th>7513</th>\n",
              "      <td>1</td>\n",
              "      <td>home heard loud sound spitting outside door th...</td>\n",
              "    </tr>\n",
              "    <tr>\n",
              "      <th>7514</th>\n",
              "      <td>6</td>\n",
              "      <td>homework teacher asked us scolded immediately</td>\n",
              "    </tr>\n",
              "    <tr>\n",
              "      <th>7515</th>\n",
              "      <td>1</td>\n",
              "      <td>shouted younger brother always afraid called l...</td>\n",
              "    </tr>\n",
              "  </tbody>\n",
              "</table>\n",
              "<p>7516 rows × 2 columns</p>\n",
              "</div>"
            ],
            "text/plain": [
              "      Column1                                            Column2\n",
              "0           0  days feel close partner friends feel peace als...\n",
              "1           1  every time imagine someone love could contact ...\n",
              "2           2  obviously unjustly treated possibility elucida...\n",
              "3           3  think short time live relate periods life thin...\n",
              "4           4  gathering found involuntarily sitting next two...\n",
              "...       ...                                                ...\n",
              "7511        5  two years back someone invited tutor grand dau...\n",
              "7512        5  taken responsibility something prepared howeve...\n",
              "7513        1  home heard loud sound spitting outside door th...\n",
              "7514        6      homework teacher asked us scolded immediately\n",
              "7515        1  shouted younger brother always afraid called l...\n",
              "\n",
              "[7516 rows x 2 columns]"
            ]
          },
          "metadata": {
            "tags": []
          },
          "execution_count": 20
        }
      ]
    },
    {
      "cell_type": "code",
      "metadata": {
        "id": "8xrXnxUkHdGB",
        "colab": {
          "base_uri": "https://localhost:8080/"
        },
        "outputId": "6ba775de-615e-4ab8-ad7d-9ef7df099096"
      },
      "source": [
        "nltk.download('wordnet')"
      ],
      "execution_count": 21,
      "outputs": [
        {
          "output_type": "stream",
          "text": [
            "[nltk_data] Downloading package wordnet to /root/nltk_data...\n",
            "[nltk_data]   Unzipping corpora/wordnet.zip.\n"
          ],
          "name": "stdout"
        },
        {
          "output_type": "execute_result",
          "data": {
            "text/plain": [
              "True"
            ]
          },
          "metadata": {
            "tags": []
          },
          "execution_count": 21
        }
      ]
    },
    {
      "cell_type": "code",
      "metadata": {
        "id": "kVTo-eFFHRzy"
      },
      "source": [
        "#Lemmatisation\r\n",
        "from textblob import Word\r\n",
        "data['Column2'] = data['Column2'].apply(lambda x: \" \".join([Word(word).lemmatize() for word in x.split()]))"
      ],
      "execution_count": 22,
      "outputs": []
    },
    {
      "cell_type": "code",
      "metadata": {
        "id": "Lu4hrKtwHfus",
        "colab": {
          "base_uri": "https://localhost:8080/",
          "height": 402
        },
        "outputId": "8f4ea4ca-fba4-4026-c810-483fe4e56d91"
      },
      "source": [
        "data"
      ],
      "execution_count": 23,
      "outputs": [
        {
          "output_type": "execute_result",
          "data": {
            "text/html": [
              "<div>\n",
              "<style scoped>\n",
              "    .dataframe tbody tr th:only-of-type {\n",
              "        vertical-align: middle;\n",
              "    }\n",
              "\n",
              "    .dataframe tbody tr th {\n",
              "        vertical-align: top;\n",
              "    }\n",
              "\n",
              "    .dataframe thead th {\n",
              "        text-align: right;\n",
              "    }\n",
              "</style>\n",
              "<table border=\"1\" class=\"dataframe\">\n",
              "  <thead>\n",
              "    <tr style=\"text-align: right;\">\n",
              "      <th></th>\n",
              "      <th>Column1</th>\n",
              "      <th>Column2</th>\n",
              "    </tr>\n",
              "  </thead>\n",
              "  <tbody>\n",
              "    <tr>\n",
              "      <th>0</th>\n",
              "      <td>0</td>\n",
              "      <td>day feel close partner friend feel peace also ...</td>\n",
              "    </tr>\n",
              "    <tr>\n",
              "      <th>1</th>\n",
              "      <td>1</td>\n",
              "      <td>every time imagine someone love could contact ...</td>\n",
              "    </tr>\n",
              "    <tr>\n",
              "      <th>2</th>\n",
              "      <td>2</td>\n",
              "      <td>obviously unjustly treated possibility elucida...</td>\n",
              "    </tr>\n",
              "    <tr>\n",
              "      <th>3</th>\n",
              "      <td>3</td>\n",
              "      <td>think short time live relate period life think...</td>\n",
              "    </tr>\n",
              "    <tr>\n",
              "      <th>4</th>\n",
              "      <td>4</td>\n",
              "      <td>gathering found involuntarily sitting next two...</td>\n",
              "    </tr>\n",
              "    <tr>\n",
              "      <th>...</th>\n",
              "      <td>...</td>\n",
              "      <td>...</td>\n",
              "    </tr>\n",
              "    <tr>\n",
              "      <th>7511</th>\n",
              "      <td>5</td>\n",
              "      <td>two year back someone invited tutor grand daug...</td>\n",
              "    </tr>\n",
              "    <tr>\n",
              "      <th>7512</th>\n",
              "      <td>5</td>\n",
              "      <td>taken responsibility something prepared howeve...</td>\n",
              "    </tr>\n",
              "    <tr>\n",
              "      <th>7513</th>\n",
              "      <td>1</td>\n",
              "      <td>home heard loud sound spitting outside door th...</td>\n",
              "    </tr>\n",
              "    <tr>\n",
              "      <th>7514</th>\n",
              "      <td>6</td>\n",
              "      <td>homework teacher asked u scolded immediately</td>\n",
              "    </tr>\n",
              "    <tr>\n",
              "      <th>7515</th>\n",
              "      <td>1</td>\n",
              "      <td>shouted younger brother always afraid called l...</td>\n",
              "    </tr>\n",
              "  </tbody>\n",
              "</table>\n",
              "<p>7516 rows × 2 columns</p>\n",
              "</div>"
            ],
            "text/plain": [
              "      Column1                                            Column2\n",
              "0           0  day feel close partner friend feel peace also ...\n",
              "1           1  every time imagine someone love could contact ...\n",
              "2           2  obviously unjustly treated possibility elucida...\n",
              "3           3  think short time live relate period life think...\n",
              "4           4  gathering found involuntarily sitting next two...\n",
              "...       ...                                                ...\n",
              "7511        5  two year back someone invited tutor grand daug...\n",
              "7512        5  taken responsibility something prepared howeve...\n",
              "7513        1  home heard loud sound spitting outside door th...\n",
              "7514        6       homework teacher asked u scolded immediately\n",
              "7515        1  shouted younger brother always afraid called l...\n",
              "\n",
              "[7516 rows x 2 columns]"
            ]
          },
          "metadata": {
            "tags": []
          },
          "execution_count": 23
        }
      ]
    },
    {
      "cell_type": "code",
      "metadata": {
        "id": "9TGxKAsLHkFW"
      },
      "source": [
        "#Correcting Letter Repetitions\r\n",
        "import re\r\n",
        "def de_repeat(text):\r\n",
        "    pattern = re.compile(r\"(.)\\1{2,}\")\r\n",
        "    return pattern.sub(r\"\\1\\1\", text)\r\n",
        "#%%\r\n",
        "data['Column2'] = data['Column2'].apply(lambda x: \" \".join(de_repeat(x) for x in x.split()))"
      ],
      "execution_count": 24,
      "outputs": []
    },
    {
      "cell_type": "code",
      "metadata": {
        "id": "XHqIbeeMHqnV",
        "colab": {
          "base_uri": "https://localhost:8080/",
          "height": 402
        },
        "outputId": "180e31ab-27cb-4f47-8b37-e2d4fb3385d0"
      },
      "source": [
        "data"
      ],
      "execution_count": 25,
      "outputs": [
        {
          "output_type": "execute_result",
          "data": {
            "text/html": [
              "<div>\n",
              "<style scoped>\n",
              "    .dataframe tbody tr th:only-of-type {\n",
              "        vertical-align: middle;\n",
              "    }\n",
              "\n",
              "    .dataframe tbody tr th {\n",
              "        vertical-align: top;\n",
              "    }\n",
              "\n",
              "    .dataframe thead th {\n",
              "        text-align: right;\n",
              "    }\n",
              "</style>\n",
              "<table border=\"1\" class=\"dataframe\">\n",
              "  <thead>\n",
              "    <tr style=\"text-align: right;\">\n",
              "      <th></th>\n",
              "      <th>Column1</th>\n",
              "      <th>Column2</th>\n",
              "    </tr>\n",
              "  </thead>\n",
              "  <tbody>\n",
              "    <tr>\n",
              "      <th>0</th>\n",
              "      <td>0</td>\n",
              "      <td>day feel close partner friend feel peace also ...</td>\n",
              "    </tr>\n",
              "    <tr>\n",
              "      <th>1</th>\n",
              "      <td>1</td>\n",
              "      <td>every time imagine someone love could contact ...</td>\n",
              "    </tr>\n",
              "    <tr>\n",
              "      <th>2</th>\n",
              "      <td>2</td>\n",
              "      <td>obviously unjustly treated possibility elucida...</td>\n",
              "    </tr>\n",
              "    <tr>\n",
              "      <th>3</th>\n",
              "      <td>3</td>\n",
              "      <td>think short time live relate period life think...</td>\n",
              "    </tr>\n",
              "    <tr>\n",
              "      <th>4</th>\n",
              "      <td>4</td>\n",
              "      <td>gathering found involuntarily sitting next two...</td>\n",
              "    </tr>\n",
              "    <tr>\n",
              "      <th>...</th>\n",
              "      <td>...</td>\n",
              "      <td>...</td>\n",
              "    </tr>\n",
              "    <tr>\n",
              "      <th>7511</th>\n",
              "      <td>5</td>\n",
              "      <td>two year back someone invited tutor grand daug...</td>\n",
              "    </tr>\n",
              "    <tr>\n",
              "      <th>7512</th>\n",
              "      <td>5</td>\n",
              "      <td>taken responsibility something prepared howeve...</td>\n",
              "    </tr>\n",
              "    <tr>\n",
              "      <th>7513</th>\n",
              "      <td>1</td>\n",
              "      <td>home heard loud sound spitting outside door th...</td>\n",
              "    </tr>\n",
              "    <tr>\n",
              "      <th>7514</th>\n",
              "      <td>6</td>\n",
              "      <td>homework teacher asked u scolded immediately</td>\n",
              "    </tr>\n",
              "    <tr>\n",
              "      <th>7515</th>\n",
              "      <td>1</td>\n",
              "      <td>shouted younger brother always afraid called l...</td>\n",
              "    </tr>\n",
              "  </tbody>\n",
              "</table>\n",
              "<p>7516 rows × 2 columns</p>\n",
              "</div>"
            ],
            "text/plain": [
              "      Column1                                            Column2\n",
              "0           0  day feel close partner friend feel peace also ...\n",
              "1           1  every time imagine someone love could contact ...\n",
              "2           2  obviously unjustly treated possibility elucida...\n",
              "3           3  think short time live relate period life think...\n",
              "4           4  gathering found involuntarily sitting next two...\n",
              "...       ...                                                ...\n",
              "7511        5  two year back someone invited tutor grand daug...\n",
              "7512        5  taken responsibility something prepared howeve...\n",
              "7513        1  home heard loud sound spitting outside door th...\n",
              "7514        6       homework teacher asked u scolded immediately\n",
              "7515        1  shouted younger brother always afraid called l...\n",
              "\n",
              "[7516 rows x 2 columns]"
            ]
          },
          "metadata": {
            "tags": []
          },
          "execution_count": 25
        }
      ]
    },
    {
      "cell_type": "code",
      "metadata": {
        "id": "ngS7ykABHsOA"
      },
      "source": [
        "# Code to find the top 7100 rarest words appearing in the data\r\n",
        "freq = pd.Series(' '.join(data['Column2']).split()).value_counts()[-5000:]"
      ],
      "execution_count": 26,
      "outputs": []
    },
    {
      "cell_type": "code",
      "metadata": {
        "id": "kRjv92dDHzKI"
      },
      "source": [
        "# Removing all those rarely appearing words from the data\r\n",
        "freq = list(freq.index)\r\n",
        "data['Column2'] = data['Column2'].apply(lambda x: \" \".join(x for x in x.split() if x not in freq))"
      ],
      "execution_count": 27,
      "outputs": []
    },
    {
      "cell_type": "code",
      "metadata": {
        "id": "kFJ--P20H645",
        "colab": {
          "base_uri": "https://localhost:8080/",
          "height": 402
        },
        "outputId": "25017227-3c4a-4f87-936b-2b5507eb51fb"
      },
      "source": [
        "data"
      ],
      "execution_count": 28,
      "outputs": [
        {
          "output_type": "execute_result",
          "data": {
            "text/html": [
              "<div>\n",
              "<style scoped>\n",
              "    .dataframe tbody tr th:only-of-type {\n",
              "        vertical-align: middle;\n",
              "    }\n",
              "\n",
              "    .dataframe tbody tr th {\n",
              "        vertical-align: top;\n",
              "    }\n",
              "\n",
              "    .dataframe thead th {\n",
              "        text-align: right;\n",
              "    }\n",
              "</style>\n",
              "<table border=\"1\" class=\"dataframe\">\n",
              "  <thead>\n",
              "    <tr style=\"text-align: right;\">\n",
              "      <th></th>\n",
              "      <th>Column1</th>\n",
              "      <th>Column2</th>\n",
              "    </tr>\n",
              "  </thead>\n",
              "  <tbody>\n",
              "    <tr>\n",
              "      <th>0</th>\n",
              "      <td>0</td>\n",
              "      <td>day feel close partner friend feel also experi...</td>\n",
              "    </tr>\n",
              "    <tr>\n",
              "      <th>1</th>\n",
              "      <td>1</td>\n",
              "      <td>every time imagine someone love could contact ...</td>\n",
              "    </tr>\n",
              "    <tr>\n",
              "      <th>2</th>\n",
              "      <td>2</td>\n",
              "      <td>obviously unjustly treated possibility</td>\n",
              "    </tr>\n",
              "    <tr>\n",
              "      <th>3</th>\n",
              "      <td>3</td>\n",
              "      <td>think short time live period life think use sh...</td>\n",
              "    </tr>\n",
              "    <tr>\n",
              "      <th>4</th>\n",
              "      <td>4</td>\n",
              "      <td>gathering found sitting next two people expres...</td>\n",
              "    </tr>\n",
              "    <tr>\n",
              "      <th>...</th>\n",
              "      <td>...</td>\n",
              "      <td>...</td>\n",
              "    </tr>\n",
              "    <tr>\n",
              "      <th>7511</th>\n",
              "      <td>5</td>\n",
              "      <td>two year back someone invited tutor grand daug...</td>\n",
              "    </tr>\n",
              "    <tr>\n",
              "      <th>7512</th>\n",
              "      <td>5</td>\n",
              "      <td>taken responsibility something prepared howeve...</td>\n",
              "    </tr>\n",
              "    <tr>\n",
              "      <th>7513</th>\n",
              "      <td>1</td>\n",
              "      <td>home heard loud sound spitting outside door th...</td>\n",
              "    </tr>\n",
              "    <tr>\n",
              "      <th>7514</th>\n",
              "      <td>6</td>\n",
              "      <td>homework teacher asked u scolded immediately</td>\n",
              "    </tr>\n",
              "    <tr>\n",
              "      <th>7515</th>\n",
              "      <td>1</td>\n",
              "      <td>shouted younger brother always afraid called l...</td>\n",
              "    </tr>\n",
              "  </tbody>\n",
              "</table>\n",
              "<p>7516 rows × 2 columns</p>\n",
              "</div>"
            ],
            "text/plain": [
              "      Column1                                            Column2\n",
              "0           0  day feel close partner friend feel also experi...\n",
              "1           1  every time imagine someone love could contact ...\n",
              "2           2             obviously unjustly treated possibility\n",
              "3           3  think short time live period life think use sh...\n",
              "4           4  gathering found sitting next two people expres...\n",
              "...       ...                                                ...\n",
              "7511        5  two year back someone invited tutor grand daug...\n",
              "7512        5  taken responsibility something prepared howeve...\n",
              "7513        1  home heard loud sound spitting outside door th...\n",
              "7514        6       homework teacher asked u scolded immediately\n",
              "7515        1  shouted younger brother always afraid called l...\n",
              "\n",
              "[7516 rows x 2 columns]"
            ]
          },
          "metadata": {
            "tags": []
          },
          "execution_count": 28
        }
      ]
    },
    {
      "cell_type": "code",
      "metadata": {
        "id": "zJcTk7DnfXRx",
        "colab": {
          "base_uri": "https://localhost:8080/"
        },
        "outputId": "42b0e68f-01e9-4184-b525-6f7a837ae6b2"
      },
      "source": [
        "from google.colab import drive\n",
        "drive.mount('/content/drive')"
      ],
      "execution_count": 29,
      "outputs": [
        {
          "output_type": "stream",
          "text": [
            "Mounted at /content/drive\n"
          ],
          "name": "stdout"
        }
      ]
    },
    {
      "cell_type": "code",
      "metadata": {
        "id": "d04n5XXyf5Cj"
      },
      "source": [
        "# HELPER FUNCTIONS\n",
        "\n",
        "def read_glove_vecs(glove_file):\n",
        "    with open(glove_file, 'r') as f:\n",
        "        words = set()\n",
        "        word_to_vec_map = {}\n",
        "        for line in f:\n",
        "            line = line.strip().split()\n",
        "            curr_word = line[0]\n",
        "            words.add(curr_word)\n",
        "            word_to_vec_map[curr_word] = np.array(line[1:], dtype=np.float64)\n",
        "        \n",
        "        i = 1\n",
        "        words_to_index = {}\n",
        "        index_to_words = {}\n",
        "        for w in sorted(words):\n",
        "            words_to_index[w] = i\n",
        "            index_to_words[i] = w\n",
        "            i = i + 1\n",
        "    return words_to_index, index_to_words, word_to_vec_map\n",
        "\n",
        "def convert_to_one_hot(Y, C):\n",
        "    Y = np.eye(C)[Y.reshape(-1)]\n",
        "    return Y\n",
        "\n",
        "def read_csv(filename):\n",
        "    phrase = []\n",
        "    emoji = []\n",
        "\n",
        "    with open (filename) as csvDataFile:\n",
        "        csvReader = csv.reader(csvDataFile)\n",
        "\n",
        "        for row in csvReader:\n",
        "            phrase.append(row[0])\n",
        "            emoji.append(row[1])\n",
        "\n",
        "    X = np.asarray(phrase)\n",
        "    Y = np.asarray(emoji, dtype=int)\n",
        "\n",
        "    return X, Y"
      ],
      "execution_count": 30,
      "outputs": []
    },
    {
      "cell_type": "code",
      "metadata": {
        "id": "fGFINNGXCQMi"
      },
      "source": [
        "X= data.iloc[ : ,1].values\r\n",
        "\r\n",
        "Y= data.iloc[ : , 0].values"
      ],
      "execution_count": 31,
      "outputs": []
    },
    {
      "cell_type": "code",
      "metadata": {
        "id": "AvznRjVzGBau"
      },
      "source": [
        "X_train, X_test, Y_train, Y_test = train_test_split(X, Y, test_size=0.33)"
      ],
      "execution_count": 32,
      "outputs": []
    },
    {
      "cell_type": "code",
      "metadata": {
        "id": "Gt5z5eqVih4i"
      },
      "source": [
        "Y_oh_train = convert_to_one_hot(Y_train, C = 7)\n",
        "Y_oh_test = convert_to_one_hot(Y_test, C = 7)"
      ],
      "execution_count": 33,
      "outputs": []
    },
    {
      "cell_type": "code",
      "metadata": {
        "id": "jDe5vX3qiYcB"
      },
      "source": [
        "word_to_index, index_to_word, word_to_vec_map = read_glove_vecs('/content/drive/My Drive/glove.6B.50d.txt')"
      ],
      "execution_count": 34,
      "outputs": []
    },
    {
      "cell_type": "code",
      "metadata": {
        "id": "fh0iyxn_jDCR"
      },
      "source": [
        "def sentences_to_indices(X, word_to_index, max_len):\n",
        "    \"\"\"\n",
        "    Converts an array of sentences (strings) into an array of indices corresponding to words in the sentences.\n",
        "    \"\"\"\n",
        "    \n",
        "    m = X.shape[0]  # number of training examples\n",
        "    \n",
        "    # Initialize X_indices as a numpy matrix of zeros and the correct shape\n",
        "    X_indices = np.zeros((m,max_len))\n",
        "    \n",
        "    for i in range(m):  # loop over training examples\n",
        "        \n",
        "        # Convert the ith sentence in lower case and split into a list of words\n",
        "        sentence_words = X[i].lower().split()\n",
        "        \n",
        "        # Initialize j to 0\n",
        "        j = 0\n",
        "        \n",
        "        # Loop over the words of sentence_words\n",
        "        for w in sentence_words:\n",
        "         \n",
        "            # Set the (i,j)th entry of X_indices to the index of the correct word.\n",
        "            X_indices[i, j] = word_to_index[w]\n",
        "            # Increment j to j + 1\n",
        "            j = j + 1\n",
        "    \n",
        "    return X_indices"
      ],
      "execution_count": 35,
      "outputs": []
    },
    {
      "cell_type": "code",
      "metadata": {
        "id": "LLyIs_aFjdfl",
        "colab": {
          "base_uri": "https://localhost:8080/"
        },
        "outputId": "f4137b02-1b73-4ec8-cd44-854780ed12a5"
      },
      "source": [
        "X1 = np.array([\"lol\", \"I love you\", \"this is very yummy\"])\n",
        "X1_indices = sentences_to_indices(X1,word_to_index, max_len = 5)\n",
        "print(\"X1 =\", X1)\n",
        "print(\"X1_indices =\", X1_indices)"
      ],
      "execution_count": 36,
      "outputs": [
        {
          "output_type": "stream",
          "text": [
            "X1 = ['lol' 'I love you' 'this is very yummy']\n",
            "X1_indices = [[225122.      0.      0.      0.      0.]\n",
            " [185457. 226278. 394475.      0.      0.]\n",
            " [358160. 192973. 377946. 394957.      0.]]\n"
          ],
          "name": "stdout"
        }
      ]
    },
    {
      "cell_type": "markdown",
      "metadata": {
        "id": "UMKHhghrWcNn"
      },
      "source": [
        "## Defining the Network using Pretrained Embedding Layer using GloVe Word Embeddings"
      ]
    },
    {
      "cell_type": "code",
      "metadata": {
        "id": "JZDWRfRkWhwB"
      },
      "source": [
        "class NN(nn.Module):\n",
        "  def __init__(self, embedding, embedding_dim, hidden_dim, vocab_size, output_dim, batch_size):\n",
        "      super(NN, self).__init__()\n",
        "\n",
        "      self.batch_size = batch_size\n",
        "\n",
        "      self.hidden_dim = hidden_dim\n",
        "\n",
        "      self.word_embeddings = embedding\n",
        "\n",
        "      # The LSTM takes word embeddings as inputs, and outputs hidden states\n",
        "      # with dimensionality hidden_dim.\n",
        "      self.lstm = nn.LSTM(embedding_dim, \n",
        "                          hidden_dim, \n",
        "                          num_layers=2,\n",
        "                          dropout = 0.5,\n",
        "                          batch_first = True)\n",
        "\n",
        "      # The linear layer that maps from hidden state space to output space\n",
        "      self.fc = nn.Linear(hidden_dim, output_dim)\n",
        "\n",
        "  def forward(self, sentence):\n",
        "      \n",
        "      #sentence = sentence.type(torch.LongTensor)\n",
        "      #print ('Shape of sentence is:', sentence.shape)\n",
        "\n",
        "      sentence = sentence.to(device)\n",
        "\n",
        "      embeds = self.word_embeddings(sentence)\n",
        "      #print ('Embedding layer output shape', embeds.shape)\n",
        "\n",
        "      # initializing the hidden state to 0\n",
        "      #hidden=None\n",
        "      \n",
        "      h0 = torch.zeros(2, sentence.size(0), hidden_dim).requires_grad_().to(device)\n",
        "      c0 = torch.zeros(2, sentence.size(0), hidden_dim).requires_grad_().to(device)\n",
        "      \n",
        "      lstm_out, h = self.lstm(embeds, (h0, c0))\n",
        "      # get info from last timestep only\n",
        "      lstm_out = lstm_out[:, -1, :]\n",
        "      #print ('LSTM layer output shape', lstm_out.shape)\n",
        "      #print ('LSTM layer output ', lstm_out)\n",
        "\n",
        "      # Dropout\n",
        "      lstm_out = F.dropout(lstm_out, 0.5)\n",
        "\n",
        "      fc_out = self.fc(lstm_out)\n",
        "      #print ('FC layer output shape', fc_out.shape)\n",
        "      #print ('FC layer output ', fc_out)\n",
        "      \n",
        "      out = fc_out\n",
        "      out = F.softmax(out, dim=1)\n",
        "      #print ('Output layer output shape', out.shape)\n",
        "      #print ('Output layer output ', out)\n",
        "      return out\n",
        "  "
      ],
      "execution_count": 37,
      "outputs": []
    },
    {
      "cell_type": "markdown",
      "metadata": {
        "id": "QK1Bty6f5yQ3"
      },
      "source": [
        "## Creating the Glove Embedding Layer"
      ]
    },
    {
      "cell_type": "code",
      "metadata": {
        "id": "g-UcwaXPgZyj"
      },
      "source": [
        "def pretrained_embedding_layer(word_to_vec_map, word_to_index, non_trainable=True):\n",
        "    num_embeddings = len(word_to_index) + 1                   \n",
        "    embedding_dim = word_to_vec_map[\"cucumber\"].shape[0]  #  dimensionality of GloVe word vectors (= 50)\n",
        "\n",
        "    # Initialize the embedding matrix as a numpy array of zeros of shape (num_embeddings, embedding_dim)\n",
        "    weights_matrix = np.zeros((num_embeddings, embedding_dim))\n",
        "\n",
        "    # Set each row \"index\" of the embedding matrix to be the word vector representation of the \"index\"th word of the vocabulary\n",
        "    for word, index in word_to_index.items():\n",
        "        weights_matrix[index, :] = word_to_vec_map[word]\n",
        "\n",
        "    embed = nn.Embedding.from_pretrained(torch.from_numpy(weights_matrix).type(torch.FloatTensor), freeze=non_trainable)\n",
        "\n",
        "    return embed, num_embeddings, embedding_dim\n"
      ],
      "execution_count": 38,
      "outputs": []
    },
    {
      "cell_type": "markdown",
      "metadata": {
        "id": "C7urFqpr5ntp"
      },
      "source": [
        "## Training the model"
      ]
    },
    {
      "cell_type": "code",
      "metadata": {
        "id": "BEkK7S6v8dVk"
      },
      "source": [
        "device = torch.device(\"cuda:0\" if torch.cuda.is_available() else \"cpu\")\n",
        "\n",
        "def train(model, trainloader, criterion, optimizer, epochs=10):\n",
        "    \n",
        "    model.to(device)\n",
        "    running_loss = 0\n",
        "    \n",
        "    train_losses, test_losses, accuracies = [], [], []\n",
        "    for e in range(epochs):\n",
        "\n",
        "        running_loss = 0\n",
        "        \n",
        "        model.train()\n",
        "        \n",
        "        for sentences, labels in trainloader:\n",
        "\n",
        "            sentences, labels = sentences.to(device), labels.to(device)\n",
        "\n",
        "            # 1) erase previous gradients (if they exist)\n",
        "            optimizer.zero_grad()\n",
        "\n",
        "            # 2) make a prediction\n",
        "            pred = model.forward(sentences)\n",
        "\n",
        "            # 3) calculate how much we missed\n",
        "            loss = criterion(pred, labels)\n",
        "\n",
        "            # 4) figure out which weights caused us to miss\n",
        "            loss.backward()\n",
        "\n",
        "            # 5) change those weights\n",
        "            optimizer.step()\n",
        "\n",
        "            # 6) log our progress\n",
        "            running_loss += loss.item()\n",
        "        \n",
        "        \n",
        "        else:\n",
        "\n",
        "          model.eval()\n",
        "\n",
        "          test_loss = 0\n",
        "          accuracy = 0\n",
        "          \n",
        "          # Turn off gradients for validation, saves memory and computations\n",
        "          with torch.no_grad():\n",
        "              for sentences, labels in test_loader:\n",
        "                  sentences, labels = sentences.to(device), labels.to(device)\n",
        "                  log_ps = model(sentences)\n",
        "                  test_loss += criterion(log_ps, labels)\n",
        "                  \n",
        "                  ps = torch.exp(log_ps)\n",
        "                  top_p, top_class = ps.topk(1, dim=1)\n",
        "                  equals = top_class == labels.view(*top_class.shape)\n",
        "                  accuracy += torch.mean(equals.type(torch.FloatTensor))\n",
        "                  \n",
        "          train_losses.append(running_loss/len(train_loader))\n",
        "          test_losses.append(test_loss/len(test_loader))\n",
        "          accuracies.append(accuracy / len(test_loader) * 100)\n",
        "\n",
        "          print(\"Epoch: {}/{}.. \".format(e+1, epochs),\n",
        "                \"Training Loss: {:.3f}.. \".format(running_loss/len(train_loader)),\n",
        "                \"Test Loss: {:.3f}.. \".format(test_loss/len(test_loader)),\n",
        "                \"Test Accuracy: {:.3f}\".format(accuracy/len(test_loader)))\n",
        "        \n",
        "    # Plot\n",
        "    plt.figure(figsize=(20, 5))\n",
        "    plt.plot(train_losses, c='b', label='Training loss')\n",
        "    plt.plot(test_losses, c='r', label='Testing loss')\n",
        "    plt.xticks(np.arange(0, epochs))\n",
        "    plt.title('Losses')\n",
        "    plt.legend(loc='upper right')\n",
        "    plt.show()\n",
        "    plt.figure(figsize=(20, 5))\n",
        "    plt.plot(accuracies)\n",
        "    plt.xticks(np.arange(0, epochs))\n",
        "    plt.title('Accuracy')\n",
        "    plt.show()\n",
        "         \n",
        "\n"
      ],
      "execution_count": 39,
      "outputs": []
    },
    {
      "cell_type": "code",
      "metadata": {
        "id": "Fgb8si4s9Jb9",
        "colab": {
          "base_uri": "https://localhost:8080/",
          "height": 1000
        },
        "outputId": "a689fdb3-6160-4251-ddc7-9e85c49128f4"
      },
      "source": [
        "import torch.utils.data\n",
        "\n",
        "maxLen = len(max(X_train, key=len).split())\n",
        "X_train_indices = sentences_to_indices(X_train, word_to_index, maxLen)\n",
        "Y_train_oh = convert_to_one_hot(Y_train, C = 7)\n",
        "\n",
        "X_test_indices = sentences_to_indices(X_test, word_to_index, maxLen)\n",
        "Y_test_oh = convert_to_one_hot(Y_test, C = 7)\n",
        "\n",
        "embedding, vocab_size, embedding_dim = pretrained_embedding_layer(word_to_vec_map, word_to_index, non_trainable=True)\n",
        "\n",
        "hidden_dim=128\n",
        "output_size=7\n",
        "batch_size = 32\n",
        "\n",
        "#print ('Embedding layer is ', embedding)\n",
        "#print ('Embedding layer weights ', embedding.weight.shape)\n",
        "\n",
        "model = NN(embedding, embedding_dim, hidden_dim, vocab_size, output_size, batch_size)\n",
        "criterion = nn.CrossEntropyLoss()\n",
        "optimizer = optim.Adam(model.parameters(), lr=0.002)\n",
        "epochs = 50\n",
        "train_dataset = torch.utils.data.TensorDataset(torch.tensor(X_train_indices).type(torch.LongTensor), torch.tensor(Y_train).type(torch.LongTensor))\n",
        "train_loader = torch.utils.data.DataLoader(train_dataset, batch_size=batch_size)\n",
        "\n",
        "test_dataset = torch.utils.data.TensorDataset(torch.tensor(X_test_indices).type(torch.LongTensor), torch.tensor(Y_test).type(torch.LongTensor))\n",
        "test_loader = torch.utils.data.DataLoader(test_dataset, batch_size=batch_size)\n",
        "\n",
        "train(model, train_loader, criterion, optimizer, epochs)"
      ],
      "execution_count": 40,
      "outputs": [
        {
          "output_type": "stream",
          "text": [
            "Epoch: 1/50..  Training Loss: 1.946..  Test Loss: 1.947..  Test Accuracy: 0.131\n",
            "Epoch: 2/50..  Training Loss: 1.946..  Test Loss: 1.947..  Test Accuracy: 0.135\n",
            "Epoch: 3/50..  Training Loss: 1.946..  Test Loss: 1.947..  Test Accuracy: 0.131\n",
            "Epoch: 4/50..  Training Loss: 1.946..  Test Loss: 1.947..  Test Accuracy: 0.131\n",
            "Epoch: 5/50..  Training Loss: 1.946..  Test Loss: 1.947..  Test Accuracy: 0.131\n",
            "Epoch: 6/50..  Training Loss: 1.946..  Test Loss: 1.947..  Test Accuracy: 0.131\n",
            "Epoch: 7/50..  Training Loss: 1.946..  Test Loss: 1.947..  Test Accuracy: 0.134\n",
            "Epoch: 8/50..  Training Loss: 1.946..  Test Loss: 1.947..  Test Accuracy: 0.128\n",
            "Epoch: 9/50..  Training Loss: 1.946..  Test Loss: 1.947..  Test Accuracy: 0.126\n",
            "Epoch: 10/50..  Training Loss: 1.946..  Test Loss: 1.947..  Test Accuracy: 0.137\n",
            "Epoch: 11/50..  Training Loss: 1.946..  Test Loss: 1.947..  Test Accuracy: 0.130\n",
            "Epoch: 12/50..  Training Loss: 1.946..  Test Loss: 1.947..  Test Accuracy: 0.136\n",
            "Epoch: 13/50..  Training Loss: 1.946..  Test Loss: 1.947..  Test Accuracy: 0.127\n",
            "Epoch: 14/50..  Training Loss: 1.946..  Test Loss: 1.947..  Test Accuracy: 0.128\n",
            "Epoch: 15/50..  Training Loss: 1.946..  Test Loss: 1.947..  Test Accuracy: 0.131\n",
            "Epoch: 16/50..  Training Loss: 1.946..  Test Loss: 1.947..  Test Accuracy: 0.129\n",
            "Epoch: 17/50..  Training Loss: 1.946..  Test Loss: 1.947..  Test Accuracy: 0.139\n",
            "Epoch: 18/50..  Training Loss: 1.946..  Test Loss: 1.947..  Test Accuracy: 0.128\n",
            "Epoch: 19/50..  Training Loss: 1.946..  Test Loss: 1.947..  Test Accuracy: 0.131\n",
            "Epoch: 20/50..  Training Loss: 1.946..  Test Loss: 1.947..  Test Accuracy: 0.132\n",
            "Epoch: 21/50..  Training Loss: 1.946..  Test Loss: 1.947..  Test Accuracy: 0.133\n",
            "Epoch: 22/50..  Training Loss: 1.946..  Test Loss: 1.947..  Test Accuracy: 0.128\n",
            "Epoch: 23/50..  Training Loss: 1.946..  Test Loss: 1.947..  Test Accuracy: 0.133\n",
            "Epoch: 24/50..  Training Loss: 1.946..  Test Loss: 1.947..  Test Accuracy: 0.131\n",
            "Epoch: 25/50..  Training Loss: 1.946..  Test Loss: 1.947..  Test Accuracy: 0.135\n",
            "Epoch: 26/50..  Training Loss: 1.946..  Test Loss: 1.947..  Test Accuracy: 0.132\n",
            "Epoch: 27/50..  Training Loss: 1.946..  Test Loss: 1.947..  Test Accuracy: 0.131\n",
            "Epoch: 28/50..  Training Loss: 1.946..  Test Loss: 1.947..  Test Accuracy: 0.129\n",
            "Epoch: 29/50..  Training Loss: 1.946..  Test Loss: 1.947..  Test Accuracy: 0.132\n",
            "Epoch: 30/50..  Training Loss: 1.946..  Test Loss: 1.947..  Test Accuracy: 0.134\n",
            "Epoch: 31/50..  Training Loss: 1.946..  Test Loss: 1.947..  Test Accuracy: 0.129\n",
            "Epoch: 32/50..  Training Loss: 1.946..  Test Loss: 1.947..  Test Accuracy: 0.137\n",
            "Epoch: 33/50..  Training Loss: 1.946..  Test Loss: 1.947..  Test Accuracy: 0.138\n",
            "Epoch: 34/50..  Training Loss: 1.946..  Test Loss: 1.947..  Test Accuracy: 0.129\n",
            "Epoch: 35/50..  Training Loss: 1.946..  Test Loss: 1.947..  Test Accuracy: 0.134\n",
            "Epoch: 36/50..  Training Loss: 1.946..  Test Loss: 1.947..  Test Accuracy: 0.133\n",
            "Epoch: 37/50..  Training Loss: 1.946..  Test Loss: 1.947..  Test Accuracy: 0.127\n",
            "Epoch: 38/50..  Training Loss: 1.946..  Test Loss: 1.947..  Test Accuracy: 0.131\n",
            "Epoch: 39/50..  Training Loss: 1.946..  Test Loss: 1.947..  Test Accuracy: 0.138\n",
            "Epoch: 40/50..  Training Loss: 1.946..  Test Loss: 1.947..  Test Accuracy: 0.133\n",
            "Epoch: 41/50..  Training Loss: 1.946..  Test Loss: 1.947..  Test Accuracy: 0.135\n",
            "Epoch: 42/50..  Training Loss: 1.946..  Test Loss: 1.947..  Test Accuracy: 0.140\n",
            "Epoch: 43/50..  Training Loss: 1.946..  Test Loss: 1.947..  Test Accuracy: 0.128\n",
            "Epoch: 44/50..  Training Loss: 1.946..  Test Loss: 1.947..  Test Accuracy: 0.130\n",
            "Epoch: 45/50..  Training Loss: 1.946..  Test Loss: 1.947..  Test Accuracy: 0.132\n",
            "Epoch: 46/50..  Training Loss: 1.946..  Test Loss: 1.947..  Test Accuracy: 0.136\n",
            "Epoch: 47/50..  Training Loss: 1.946..  Test Loss: 1.947..  Test Accuracy: 0.136\n",
            "Epoch: 48/50..  Training Loss: 1.946..  Test Loss: 1.947..  Test Accuracy: 0.125\n",
            "Epoch: 49/50..  Training Loss: 1.946..  Test Loss: 1.947..  Test Accuracy: 0.132\n",
            "Epoch: 50/50..  Training Loss: 1.946..  Test Loss: 1.947..  Test Accuracy: 0.126\n"
          ],
          "name": "stdout"
        },
        {
          "output_type": "display_data",
          "data": {
            "image/png": "[encoded data removed]",
            "text/plain": [
              "<Figure size 1440x360 with 1 Axes>"
            ]
          },
          "metadata": {
            "tags": [],
            "needs_background": "light"
          }
        },
        {
          "output_type": "display_data",
          "data": {
            "image/png": "[encoded data removed]",
            "text/plain": [
              "<Figure size 1440x360 with 1 Axes>"
            ]
          },
          "metadata": {
            "tags": [],
            "needs_background": "light"
          }
        }
      ]
    },
    {
      "cell_type": "markdown",
      "metadata": {
        "id": "9HHVnZ6m5_qV"
      },
      "source": [
        "## Testing the Model Accuracy"
      ]
    },
    {
      "cell_type": "code",
      "metadata": {
        "id": "Vo9z4JBWARDf",
        "colab": {
          "base_uri": "https://localhost:8080/"
        },
        "outputId": "d03c00de-952f-4e6e-dd16-42be85ef497a"
      },
      "source": [
        "test_loss = 0\n",
        "accuracy = 0\n",
        "model.eval()\n",
        "with torch.no_grad():\n",
        "    for sentences, labels in test_loader:\n",
        "        sentences, labels = sentences.to(device), labels.to(device)\n",
        "        ps = model(sentences)\n",
        "        test_loss += criterion(ps, labels).item()\n",
        "\n",
        "        # Accuracy\n",
        "        top_p, top_class = ps.topk(1, dim=1)\n",
        "        equals = top_class == labels.view(*top_class.shape)\n",
        "        accuracy += torch.mean(equals.type(torch.FloatTensor))\n",
        "model.train()\n",
        "print(\"Test Loss: {:.3f}.. \".format(test_loss/len(test_loader)),\n",
        "      \"Test Accuracy: {:.3f}\".format(accuracy/len(test_loader)))\n",
        "running_loss = 0"
      ],
      "execution_count": 41,
      "outputs": [
        {
          "output_type": "stream",
          "text": [
            "Test Loss: 1.947..  Test Accuracy: 0.138\n"
          ],
          "name": "stdout"
        }
      ]
    },
    {
      "cell_type": "markdown",
      "metadata": {
        "id": "egc4D90I6C6b"
      },
      "source": [
        "## Testing the model with any sentence"
      ]
    },
    {
      "cell_type": "code",
      "metadata": {
        "id": "i_xF0rcL6FRP"
      },
      "source": [
        "def predict(input_text, print_sentence=True):\n",
        "  labels_dict = {0:\"Joy\",1:\"Fear\",2:\"Anger\",3:\"Sadness\",4:\"Disgust\",5:\"Shame\",6:\"Guilt\"}\n",
        "\n",
        "  # Convert the input to the model\n",
        "  x_test = np.array([input_text])\n",
        "  X_test_indices = sentences_to_indices(x_test, word_to_index, maxLen)\n",
        "  sentences = torch.tensor(X_test_indices).type(torch.LongTensor)\n",
        "\n",
        "  # Get the class label\n",
        "  ps = model(sentences)\n",
        "  top_p, top_class = ps.topk(1, dim=1)\n",
        "  label = int(top_class[0][0])\n",
        "\n",
        "  if print_sentence:\n",
        "    print(\"\\nInput Text: \\t\"+ input_text +'\\nEmotion: \\t'+  labels_dict[label])\n",
        "\n",
        "  return label"
      ],
      "execution_count": 42,
      "outputs": []
    },
    {
      "cell_type": "code",
      "metadata": {
        "id": "07i1a-R06J2n",
        "colab": {
          "base_uri": "https://localhost:8080/"
        },
        "outputId": "60c7c9d9-df9e-4adc-b3a1-f214e2e1da1d"
      },
      "source": [
        "# Change the sentence below to see your prediction. Make sure all the words are in the Glove embeddings.  \n",
        "print(\"------------------------------------\")\n",
        "predict(\"My mother died today\")\n",
        "predict(\"You stupid\")\n",
        "predict(\"I love you aliya\")\n",
        "predict(\"I got the first prize in the competition\")\n",
        "predict(\"This is the worst day of my life\")\n",
        "print(\"\\n------------------------------------\")"
      ],
      "execution_count": 44,
      "outputs": [
        {
          "output_type": "stream",
          "text": [
            "------------------------------------\n",
            "\n",
            "Input Text: \tMy mother died today\n",
            "Emotion: \tFear\n",
            "\n",
            "Input Text: \tYou stupid\n",
            "Emotion: \tFear\n",
            "\n",
            "Input Text: \tI love you aliya\n",
            "Emotion: \tFear\n",
            "\n",
            "Input Text: \tI got the first prize in the competition\n",
            "Emotion: \tDisgust\n",
            "\n",
            "Input Text: \tThis is the worst day of my life\n",
            "Emotion: \tDisgust\n",
            "\n",
            "------------------------------------\n"
          ],
          "name": "stdout"
        }
      ]
    },
    {
      "cell_type": "code",
      "metadata": {
        "colab": {
          "base_uri": "https://localhost:8080/"
        },
        "id": "YDUj7fp1potX",
        "outputId": "eefe011d-0830-42fa-fa9b-d7bbdc84b24f"
      },
      "source": [
        "print(\"------------------------------------\")\r\n",
        "predict(\"I love you Maya\")\r\n",
        "print(\"\\n------------------------------------\")"
      ],
      "execution_count": 45,
      "outputs": [
        {
          "output_type": "stream",
          "text": [
            "------------------------------------\n",
            "\n",
            "Input Text: \tI love you Maya\n",
            "Emotion: \tDisgust\n",
            "\n",
            "------------------------------------\n"
          ],
          "name": "stdout"
        }
      ]
    },
    {
      "cell_type": "code",
      "metadata": {
        "colab": {
          "base_uri": "https://localhost:8080/"
        },
        "id": "KU9yN94Y1Did",
        "outputId": "b22fb4ff-1aa0-4fb8-c2bc-93a0c3d81204"
      },
      "source": [
        "print(\"------------------------------------\")\r\n",
        "predict(\"You stupid\")\r\n",
        "print(\"\\n------------------------------------\")"
      ],
      "execution_count": 46,
      "outputs": [
        {
          "output_type": "stream",
          "text": [
            "------------------------------------\n",
            "\n",
            "Input Text: \tYou stupid\n",
            "Emotion: \tDisgust\n",
            "\n",
            "------------------------------------\n"
          ],
          "name": "stdout"
        }
      ]
    },
    {
      "cell_type": "code",
      "metadata": {
        "colab": {
          "base_uri": "https://localhost:8080/"
        },
        "id": "keyY1WeE1NYM",
        "outputId": "57d71ec2-8360-4ff6-addb-a773b4c24b25"
      },
      "source": [
        "print(\"------------------------------------\")\r\n",
        "predict(\"My mother died yesterday\")\r\n",
        "print(\"\\n------------------------------------\")"
      ],
      "execution_count": null,
      "outputs": [
        {
          "output_type": "stream",
          "text": [
            "------------------------------------\n",
            "\n",
            "Input Text: \tMy mother died yesterday\n",
            "Emotion: \tSadness\n",
            "\n",
            "------------------------------------\n"
          ],
          "name": "stdout"
        }
      ]
    },
    {
      "cell_type": "code",
      "metadata": {
        "colab": {
          "base_uri": "https://localhost:8080/"
        },
        "id": "yDigMXtU1T4q",
        "outputId": "f73b2c0a-ec01-4829-c853-e9683362b359"
      },
      "source": [
        "print(\"------------------------------------\")\r\n",
        "predict(\"Pity on you\")\r\n",
        "print(\"\\n------------------------------------\")"
      ],
      "execution_count": null,
      "outputs": [
        {
          "output_type": "stream",
          "text": [
            "------------------------------------\n",
            "\n",
            "Input Text: \tPity on you\n",
            "Emotion: \tShame\n",
            "\n",
            "------------------------------------\n"
          ],
          "name": "stdout"
        }
      ]
    },
    {
      "cell_type": "code",
      "metadata": {
        "colab": {
          "base_uri": "https://localhost:8080/"
        },
        "id": "C_2U1jFX18XT",
        "outputId": "d83bf0a2-eb02-4dac-9403-650e7682e697"
      },
      "source": [
        "print(\"------------------------------------\")\r\n",
        "predict(\"Please forgive me\")\r\n",
        "print(\"\\n------------------------------------\")"
      ],
      "execution_count": null,
      "outputs": [
        {
          "output_type": "stream",
          "text": [
            "------------------------------------\n",
            "\n",
            "Input Text: \tPlease forgive me\n",
            "Emotion: \tGuilt\n",
            "\n",
            "------------------------------------\n"
          ],
          "name": "stdout"
        }
      ]
    },
    {
      "cell_type": "code",
      "metadata": {
        "id": "wQq9zK1Wqmtm",
        "colab": {
          "base_uri": "https://localhost:8080/"
        },
        "outputId": "b7f27c34-ba4e-4809-81f3-58e8f9f173ab"
      },
      "source": [
        "print(\"------------------------------------\")\r\n",
        "predict(\"I love you Maya\")\r\n",
        "print(\"\\n------------------------------------\")"
      ],
      "execution_count": null,
      "outputs": [
        {
          "output_type": "stream",
          "text": [
            "------------------------------------\n",
            "\n",
            "Input Text: \tI love you Maya\n",
            "Emotion: \tJoy\n",
            "\n",
            "------------------------------------\n"
          ],
          "name": "stdout"
        }
      ]
    },
    {
      "cell_type": "code",
      "metadata": {
        "colab": {
          "base_uri": "https://localhost:8080/"
        },
        "id": "aPwPM1Ai5AWx",
        "outputId": "eb7d77ef-6f6f-454e-fa28-759e1bcc7b45"
      },
      "source": [
        "print(\"------------------------------------\")\r\n",
        "predict(\"I hate you\")\r\n",
        "print(\"\\n------------------------------------\")"
      ],
      "execution_count": null,
      "outputs": [
        {
          "output_type": "stream",
          "text": [
            "------------------------------------\n",
            "\n",
            "Input Text: \tI hate you\n",
            "Emotion: \tSadness\n",
            "\n",
            "------------------------------------\n"
          ],
          "name": "stdout"
        }
      ]
    },
    {
      "cell_type": "code",
      "metadata": {
        "colab": {
          "base_uri": "https://localhost:8080/"
        },
        "id": "8ej2vCEX5MRs",
        "outputId": "d1e0dbf1-de18-4bbe-ea26-1a92bc7ce3d6"
      },
      "source": [
        "print(\"------------------------------------\")\r\n",
        "predict(\"Please forgive me\")\r\n",
        "print(\"\\n------------------------------------\")"
      ],
      "execution_count": null,
      "outputs": [
        {
          "output_type": "stream",
          "text": [
            "------------------------------------\n",
            "\n",
            "Input Text: \tPlease forgive me\n",
            "Emotion: \tJoy\n",
            "\n",
            "------------------------------------\n"
          ],
          "name": "stdout"
        }
      ]
    }
  ]
}